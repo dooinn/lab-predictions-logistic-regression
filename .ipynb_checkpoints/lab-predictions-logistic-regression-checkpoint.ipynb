{
 "cells": [
  {
   "cell_type": "markdown",
   "metadata": {},
   "source": [
    "# Lab | Making predictions with logistic regression\n",
    "In this lab, you will be using the Sakila database of movie rentals.\n",
    "\n",
    "In order to optimize our inventory, we would like to know which films will be rented next month and we are asked to create a model to predict it.\n",
    "\n",
    "### Instructions\n",
    "1. Create a query or queries to extract the information you think may be relevant for building the prediction model. It should include some film features and some rental features.\n",
    "2. Read the data into a Pandas dataframe.\n",
    "3. Analyze extracted features and transform them. You may need to encode some categorical variables, or scale numerical variables.\n",
    "4. Create a query to get the list of films and a boolean indicating if it was rented last month. This would be our target variable.\n",
    "5. Create a logistic regression model to predict this variable from the cleaned data.\n",
    "6. Evaluate the results."
   ]
  },
  {
   "cell_type": "code",
   "execution_count": 1,
   "metadata": {},
   "outputs": [
    {
     "name": "stdout",
     "output_type": "stream",
     "text": [
      "········\n"
     ]
    }
   ],
   "source": [
    "import pymysql\n",
    "from sqlalchemy import create_engine\n",
    "import pandas as pd\n",
    "import getpass  # to get the password without showing the input\n",
    "password = getpass.getpass()\n",
    "\n",
    "connection_string = 'mysql+pymysql://root:' + password + '@127.0.0.1/sakila'\n",
    "engine = create_engine(connection_string)"
   ]
  },
  {
   "cell_type": "code",
   "execution_count": 2,
   "metadata": {},
   "outputs": [],
   "source": [
    "import matplotlib.pyplot as plt\n",
    "import seaborn as sns\n",
    "import numpy as np\n",
    "from sklearn.preprocessing import Normalizer, StandardScaler\n",
    "from sklearn.model_selection import train_test_split\n",
    "from sklearn.linear_model import LogisticRegression\n",
    "from sklearn.metrics import confusion_matrix, classification_report\n",
    "from sklearn.preprocessing import OneHotEncoder"
   ]
  },
  {
   "cell_type": "markdown",
   "metadata": {},
   "source": [
    "### 1. Create a query or queries to extract the information you think may be relevant for building the prediction model. It should include some film features and some rental features."
   ]
  },
  {
   "cell_type": "code",
   "execution_count": 3,
   "metadata": {},
   "outputs": [],
   "source": [
    "query = '''with cte_rental as (\n",
    "    select \n",
    "        concat(year(r.rental_date),'-',month(r.rental_date)) as rental_period,\n",
    "        i.film_id\n",
    "    from rental r\n",
    "    left join inventory i using (inventory_id)\n",
    "),\n",
    "rented_binary as (\n",
    "select \n",
    "    film_id, \n",
    "    sum(case when rental_period = '2005-5' then 1 else 0 end) as `2005-5_rented`,\n",
    "    sum(case when rental_period = '2005-6' then 1 else 0 end) as `2005-6_rented`,\n",
    "    sum(case when rental_period = '2005-7' then 1 else 0 end) as `2005-7_rented`,\n",
    "    sum(case when rental_period = '2005-8' then 1 else 0 end) as `2005-8_rented`,\n",
    "    max(case when rental_period = '2006-2' then 1 else 0 end) as `rented`\n",
    "from cte_rental\n",
    "group by film_id\n",
    ")\n",
    "select\n",
    "    film_id,\n",
    "    rental_duration,\n",
    "    rental_rate,\n",
    "    length, \n",
    "    rating,\n",
    "    name as category,\n",
    "    `2005-5_rented`,\n",
    "    `2005-6_rented`,\n",
    "    `2005-7_rented`,\n",
    "    `2005-8_rented`,\n",
    "    case \n",
    "        when rented = 1 then 'Yes'\n",
    "        when rented = 0 then 'No'\n",
    "    end as rented\n",
    "from rented_binary\n",
    "left join film using (film_id)\n",
    "left join film_category using (film_id)\n",
    "left join category using (category_id);\n",
    "\n",
    "'''\n",
    "\n",
    "df = pd.read_sql_query(query, engine)\n"
   ]
  },
  {
   "cell_type": "markdown",
   "metadata": {},
   "source": [
    "### 2. Read the data into a Pandas dataframe."
   ]
  },
  {
   "cell_type": "code",
   "execution_count": 4,
   "metadata": {
    "scrolled": true
   },
   "outputs": [
    {
     "data": {
      "text/html": [
       "<div>\n",
       "<style scoped>\n",
       "    .dataframe tbody tr th:only-of-type {\n",
       "        vertical-align: middle;\n",
       "    }\n",
       "\n",
       "    .dataframe tbody tr th {\n",
       "        vertical-align: top;\n",
       "    }\n",
       "\n",
       "    .dataframe thead th {\n",
       "        text-align: right;\n",
       "    }\n",
       "</style>\n",
       "<table border=\"1\" class=\"dataframe\">\n",
       "  <thead>\n",
       "    <tr style=\"text-align: right;\">\n",
       "      <th></th>\n",
       "      <th>film_id</th>\n",
       "      <th>rental_duration</th>\n",
       "      <th>rental_rate</th>\n",
       "      <th>length</th>\n",
       "      <th>rating</th>\n",
       "      <th>category</th>\n",
       "      <th>2005-5_rented</th>\n",
       "      <th>2005-6_rented</th>\n",
       "      <th>2005-7_rented</th>\n",
       "      <th>2005-8_rented</th>\n",
       "      <th>rented</th>\n",
       "    </tr>\n",
       "  </thead>\n",
       "  <tbody>\n",
       "    <tr>\n",
       "      <th>0</th>\n",
       "      <td>80</td>\n",
       "      <td>7</td>\n",
       "      <td>2.99</td>\n",
       "      <td>148</td>\n",
       "      <td>G</td>\n",
       "      <td>Family</td>\n",
       "      <td>1.0</td>\n",
       "      <td>1.0</td>\n",
       "      <td>4.0</td>\n",
       "      <td>5.0</td>\n",
       "      <td>Yes</td>\n",
       "    </tr>\n",
       "    <tr>\n",
       "      <th>1</th>\n",
       "      <td>333</td>\n",
       "      <td>7</td>\n",
       "      <td>2.99</td>\n",
       "      <td>126</td>\n",
       "      <td>R</td>\n",
       "      <td>Music</td>\n",
       "      <td>2.0</td>\n",
       "      <td>3.0</td>\n",
       "      <td>8.0</td>\n",
       "      <td>4.0</td>\n",
       "      <td>No</td>\n",
       "    </tr>\n",
       "    <tr>\n",
       "      <th>2</th>\n",
       "      <td>373</td>\n",
       "      <td>7</td>\n",
       "      <td>2.99</td>\n",
       "      <td>156</td>\n",
       "      <td>G</td>\n",
       "      <td>Children</td>\n",
       "      <td>2.0</td>\n",
       "      <td>2.0</td>\n",
       "      <td>7.0</td>\n",
       "      <td>5.0</td>\n",
       "      <td>No</td>\n",
       "    </tr>\n",
       "    <tr>\n",
       "      <th>3</th>\n",
       "      <td>535</td>\n",
       "      <td>6</td>\n",
       "      <td>0.99</td>\n",
       "      <td>181</td>\n",
       "      <td>R</td>\n",
       "      <td>Horror</td>\n",
       "      <td>4.0</td>\n",
       "      <td>4.0</td>\n",
       "      <td>8.0</td>\n",
       "      <td>4.0</td>\n",
       "      <td>No</td>\n",
       "    </tr>\n",
       "    <tr>\n",
       "      <th>4</th>\n",
       "      <td>450</td>\n",
       "      <td>5</td>\n",
       "      <td>2.99</td>\n",
       "      <td>84</td>\n",
       "      <td>NC-17</td>\n",
       "      <td>Children</td>\n",
       "      <td>5.0</td>\n",
       "      <td>5.0</td>\n",
       "      <td>11.0</td>\n",
       "      <td>9.0</td>\n",
       "      <td>No</td>\n",
       "    </tr>\n",
       "  </tbody>\n",
       "</table>\n",
       "</div>"
      ],
      "text/plain": [
       "   film_id  rental_duration  rental_rate  length rating  category  \\\n",
       "0       80                7         2.99     148      G    Family   \n",
       "1      333                7         2.99     126      R     Music   \n",
       "2      373                7         2.99     156      G  Children   \n",
       "3      535                6         0.99     181      R    Horror   \n",
       "4      450                5         2.99      84  NC-17  Children   \n",
       "\n",
       "   2005-5_rented  2005-6_rented  2005-7_rented  2005-8_rented rented  \n",
       "0            1.0            1.0            4.0            5.0    Yes  \n",
       "1            2.0            3.0            8.0            4.0     No  \n",
       "2            2.0            2.0            7.0            5.0     No  \n",
       "3            4.0            4.0            8.0            4.0     No  \n",
       "4            5.0            5.0           11.0            9.0     No  "
      ]
     },
     "execution_count": 4,
     "metadata": {},
     "output_type": "execute_result"
    }
   ],
   "source": [
    "df = pd.read_sql_query(query, engine)\n",
    "df.head()"
   ]
  },
  {
   "cell_type": "markdown",
   "metadata": {},
   "source": [
    "### 3. Analyze extracted features and transform them. You may need to encode some categorical variables, or scale numerical variables."
   ]
  },
  {
   "cell_type": "code",
   "execution_count": 5,
   "metadata": {},
   "outputs": [
    {
     "data": {
      "text/plain": [
       "(958, 11)"
      ]
     },
     "execution_count": 5,
     "metadata": {},
     "output_type": "execute_result"
    }
   ],
   "source": [
    "df.shape"
   ]
  },
  {
   "cell_type": "code",
   "execution_count": 6,
   "metadata": {
    "scrolled": true
   },
   "outputs": [
    {
     "data": {
      "text/plain": [
       "film_id              int64\n",
       "rental_duration      int64\n",
       "rental_rate        float64\n",
       "length               int64\n",
       "rating              object\n",
       "category            object\n",
       "2005-5_rented      float64\n",
       "2005-6_rented      float64\n",
       "2005-7_rented      float64\n",
       "2005-8_rented      float64\n",
       "rented              object\n",
       "dtype: object"
      ]
     },
     "execution_count": 6,
     "metadata": {},
     "output_type": "execute_result"
    }
   ],
   "source": [
    "df.dtypes"
   ]
  },
  {
   "cell_type": "code",
   "execution_count": 7,
   "metadata": {},
   "outputs": [],
   "source": [
    "df['film_id'] = df['film_id'].astype('object')"
   ]
  },
  {
   "cell_type": "code",
   "execution_count": 8,
   "metadata": {},
   "outputs": [
    {
     "data": {
      "text/plain": [
       "film_id             object\n",
       "rental_duration      int64\n",
       "rental_rate        float64\n",
       "length               int64\n",
       "rating              object\n",
       "category            object\n",
       "2005-5_rented      float64\n",
       "2005-6_rented      float64\n",
       "2005-7_rented      float64\n",
       "2005-8_rented      float64\n",
       "rented              object\n",
       "dtype: object"
      ]
     },
     "execution_count": 8,
     "metadata": {},
     "output_type": "execute_result"
    }
   ],
   "source": [
    "df.dtypes"
   ]
  },
  {
   "cell_type": "code",
   "execution_count": 9,
   "metadata": {},
   "outputs": [
    {
     "data": {
      "text/html": [
       "<div>\n",
       "<style scoped>\n",
       "    .dataframe tbody tr th:only-of-type {\n",
       "        vertical-align: middle;\n",
       "    }\n",
       "\n",
       "    .dataframe tbody tr th {\n",
       "        vertical-align: top;\n",
       "    }\n",
       "\n",
       "    .dataframe thead th {\n",
       "        text-align: right;\n",
       "    }\n",
       "</style>\n",
       "<table border=\"1\" class=\"dataframe\">\n",
       "  <thead>\n",
       "    <tr style=\"text-align: right;\">\n",
       "      <th></th>\n",
       "      <th>rental_duration</th>\n",
       "      <th>rental_rate</th>\n",
       "      <th>length</th>\n",
       "      <th>2005-5_rented</th>\n",
       "      <th>2005-6_rented</th>\n",
       "      <th>2005-7_rented</th>\n",
       "      <th>2005-8_rented</th>\n",
       "    </tr>\n",
       "  </thead>\n",
       "  <tbody>\n",
       "    <tr>\n",
       "      <th>count</th>\n",
       "      <td>958.000000</td>\n",
       "      <td>958.000000</td>\n",
       "      <td>958.000000</td>\n",
       "      <td>958.000000</td>\n",
       "      <td>958.000000</td>\n",
       "      <td>958.000000</td>\n",
       "      <td>958.000000</td>\n",
       "    </tr>\n",
       "    <tr>\n",
       "      <th>mean</th>\n",
       "      <td>4.969729</td>\n",
       "      <td>2.977474</td>\n",
       "      <td>115.490605</td>\n",
       "      <td>1.206681</td>\n",
       "      <td>2.412317</td>\n",
       "      <td>7.003132</td>\n",
       "      <td>5.935282</td>\n",
       "    </tr>\n",
       "    <tr>\n",
       "      <th>std</th>\n",
       "      <td>1.407593</td>\n",
       "      <td>1.643152</td>\n",
       "      <td>40.471844</td>\n",
       "      <td>1.048000</td>\n",
       "      <td>1.385148</td>\n",
       "      <td>2.933429</td>\n",
       "      <td>2.534194</td>\n",
       "    </tr>\n",
       "    <tr>\n",
       "      <th>min</th>\n",
       "      <td>3.000000</td>\n",
       "      <td>0.990000</td>\n",
       "      <td>46.000000</td>\n",
       "      <td>0.000000</td>\n",
       "      <td>0.000000</td>\n",
       "      <td>1.000000</td>\n",
       "      <td>1.000000</td>\n",
       "    </tr>\n",
       "    <tr>\n",
       "      <th>25%</th>\n",
       "      <td>4.000000</td>\n",
       "      <td>0.990000</td>\n",
       "      <td>80.250000</td>\n",
       "      <td>0.000000</td>\n",
       "      <td>1.000000</td>\n",
       "      <td>5.000000</td>\n",
       "      <td>4.000000</td>\n",
       "    </tr>\n",
       "    <tr>\n",
       "      <th>50%</th>\n",
       "      <td>5.000000</td>\n",
       "      <td>2.990000</td>\n",
       "      <td>114.000000</td>\n",
       "      <td>1.000000</td>\n",
       "      <td>2.000000</td>\n",
       "      <td>7.000000</td>\n",
       "      <td>6.000000</td>\n",
       "    </tr>\n",
       "    <tr>\n",
       "      <th>75%</th>\n",
       "      <td>6.000000</td>\n",
       "      <td>4.990000</td>\n",
       "      <td>150.000000</td>\n",
       "      <td>2.000000</td>\n",
       "      <td>3.000000</td>\n",
       "      <td>9.000000</td>\n",
       "      <td>8.000000</td>\n",
       "    </tr>\n",
       "    <tr>\n",
       "      <th>max</th>\n",
       "      <td>7.000000</td>\n",
       "      <td>4.990000</td>\n",
       "      <td>185.000000</td>\n",
       "      <td>5.000000</td>\n",
       "      <td>7.000000</td>\n",
       "      <td>16.000000</td>\n",
       "      <td>13.000000</td>\n",
       "    </tr>\n",
       "  </tbody>\n",
       "</table>\n",
       "</div>"
      ],
      "text/plain": [
       "       rental_duration  rental_rate      length  2005-5_rented  2005-6_rented  \\\n",
       "count       958.000000   958.000000  958.000000     958.000000     958.000000   \n",
       "mean          4.969729     2.977474  115.490605       1.206681       2.412317   \n",
       "std           1.407593     1.643152   40.471844       1.048000       1.385148   \n",
       "min           3.000000     0.990000   46.000000       0.000000       0.000000   \n",
       "25%           4.000000     0.990000   80.250000       0.000000       1.000000   \n",
       "50%           5.000000     2.990000  114.000000       1.000000       2.000000   \n",
       "75%           6.000000     4.990000  150.000000       2.000000       3.000000   \n",
       "max           7.000000     4.990000  185.000000       5.000000       7.000000   \n",
       "\n",
       "       2005-7_rented  2005-8_rented  \n",
       "count     958.000000     958.000000  \n",
       "mean        7.003132       5.935282  \n",
       "std         2.933429       2.534194  \n",
       "min         1.000000       1.000000  \n",
       "25%         5.000000       4.000000  \n",
       "50%         7.000000       6.000000  \n",
       "75%         9.000000       8.000000  \n",
       "max        16.000000      13.000000  "
      ]
     },
     "execution_count": 9,
     "metadata": {},
     "output_type": "execute_result"
    }
   ],
   "source": [
    "df.describe()"
   ]
  },
  {
   "cell_type": "code",
   "execution_count": 10,
   "metadata": {},
   "outputs": [
    {
     "data": {
      "text/plain": [
       "film_id            0\n",
       "rental_duration    0\n",
       "rental_rate        0\n",
       "length             0\n",
       "rating             0\n",
       "category           0\n",
       "2005-5_rented      0\n",
       "2005-6_rented      0\n",
       "2005-7_rented      0\n",
       "2005-8_rented      0\n",
       "rented             0\n",
       "dtype: int64"
      ]
     },
     "execution_count": 10,
     "metadata": {},
     "output_type": "execute_result"
    }
   ],
   "source": [
    "df.isnull().sum()"
   ]
  },
  {
   "cell_type": "code",
   "execution_count": 11,
   "metadata": {},
   "outputs": [],
   "source": [
    "df_copy = df.copy()"
   ]
  },
  {
   "cell_type": "code",
   "execution_count": 12,
   "metadata": {},
   "outputs": [],
   "source": [
    "df_copy.drop('film_id', axis=1, inplace=True)"
   ]
  },
  {
   "cell_type": "code",
   "execution_count": 13,
   "metadata": {
    "scrolled": true
   },
   "outputs": [
    {
     "data": {
      "image/png": "[encoded data removed]",
      "text/plain": [
       "<Figure size 720x576 with 2 Axes>"
      ]
     },
     "metadata": {
      "needs_background": "light"
     },
     "output_type": "display_data"
    }
   ],
   "source": [
    "corr_matrix=df_copy.corr(method='pearson')  # default\n",
    "fig, ax = plt.subplots(figsize=(10, 8))\n",
    "ax = sns.heatmap(corr_matrix, annot=True)\n",
    "plt.show()"
   ]
  },
  {
   "cell_type": "markdown",
   "metadata": {},
   "source": [
    "### 4. Create a query to get the list of films and a boolean indicating if it was rented last month. This would be our target variable.\n",
    "- Already booleaned when extracting query"
   ]
  },
  {
   "cell_type": "code",
   "execution_count": 14,
   "metadata": {},
   "outputs": [
    {
     "data": {
      "text/plain": [
       "No     790\n",
       "Yes    168\n",
       "Name: rented, dtype: int64"
      ]
     },
     "execution_count": 14,
     "metadata": {},
     "output_type": "execute_result"
    }
   ],
   "source": [
    "df['rented'].value_counts()"
   ]
  },
  {
   "cell_type": "markdown",
   "metadata": {},
   "source": [
    "### 5. Create a logistic regression model to predict this variable from the cleaned data."
   ]
  },
  {
   "cell_type": "markdown",
   "metadata": {},
   "source": [
    "- 5-1. Benchmark, most baic cleaning/processing"
   ]
  },
  {
   "cell_type": "code",
   "execution_count": 15,
   "metadata": {},
   "outputs": [
    {
     "name": "stdout",
     "output_type": "stream",
     "text": [
      "              precision    recall  f1-score   support\n",
      "\n",
      "          No       0.82      0.98      0.89       158\n",
      "         Yes       0.00      0.00      0.00        34\n",
      "\n",
      "    accuracy                           0.81       192\n",
      "   macro avg       0.41      0.49      0.45       192\n",
      "weighted avg       0.67      0.81      0.74       192\n",
      "\n"
     ]
    }
   ],
   "source": [
    "X = pd.get_dummies(df_copy.drop('rented', axis=1))\n",
    "y = df_copy['rented']\n",
    "\n",
    "X_train, X_test, y_train, y_test = train_test_split(X, y, test_size=0.2, random_state=42, stratify=y)\n",
    "\n",
    "classification = LogisticRegression(random_state=42, max_iter=10000)\n",
    "classification.fit(X_train, y_train)\n",
    "\n",
    "predictions = classification.predict(X_test)\n",
    "print(classification_report(y_test, predictions))"
   ]
  },
  {
   "cell_type": "markdown",
   "metadata": {},
   "source": [
    "- Feature Engineering using boxcos transformation"
   ]
  },
  {
   "cell_type": "code",
   "execution_count": 16,
   "metadata": {},
   "outputs": [
    {
     "data": {
      "text/html": [
       "<div>\n",
       "<style scoped>\n",
       "    .dataframe tbody tr th:only-of-type {\n",
       "        vertical-align: middle;\n",
       "    }\n",
       "\n",
       "    .dataframe tbody tr th {\n",
       "        vertical-align: top;\n",
       "    }\n",
       "\n",
       "    .dataframe thead th {\n",
       "        text-align: right;\n",
       "    }\n",
       "</style>\n",
       "<table border=\"1\" class=\"dataframe\">\n",
       "  <thead>\n",
       "    <tr style=\"text-align: right;\">\n",
       "      <th></th>\n",
       "      <th>rental_duration</th>\n",
       "      <th>rental_rate</th>\n",
       "      <th>length</th>\n",
       "      <th>rating</th>\n",
       "      <th>category</th>\n",
       "      <th>2005-5_rented</th>\n",
       "      <th>2005-6_rented</th>\n",
       "      <th>2005-7_rented</th>\n",
       "      <th>2005-8_rented</th>\n",
       "      <th>rented</th>\n",
       "    </tr>\n",
       "  </thead>\n",
       "  <tbody>\n",
       "    <tr>\n",
       "      <th>0</th>\n",
       "      <td>4.039329</td>\n",
       "      <td>1.482394</td>\n",
       "      <td>47.659801</td>\n",
       "      <td>G</td>\n",
       "      <td>Family</td>\n",
       "      <td>0.000000</td>\n",
       "      <td>0.000000</td>\n",
       "      <td>2.097023</td>\n",
       "      <td>2.710236</td>\n",
       "      <td>Yes</td>\n",
       "    </tr>\n",
       "    <tr>\n",
       "      <th>1</th>\n",
       "      <td>4.039329</td>\n",
       "      <td>1.482394</td>\n",
       "      <td>42.356599</td>\n",
       "      <td>R</td>\n",
       "      <td>Music</td>\n",
       "      <td>0.589651</td>\n",
       "      <td>1.286545</td>\n",
       "      <td>3.940796</td>\n",
       "      <td>2.161893</td>\n",
       "      <td>No</td>\n",
       "    </tr>\n",
       "    <tr>\n",
       "      <th>2</th>\n",
       "      <td>4.039329</td>\n",
       "      <td>1.482394</td>\n",
       "      <td>49.530474</td>\n",
       "      <td>G</td>\n",
       "      <td>Children</td>\n",
       "      <td>0.589651</td>\n",
       "      <td>0.765061</td>\n",
       "      <td>3.527749</td>\n",
       "      <td>2.710236</td>\n",
       "      <td>No</td>\n",
       "    </tr>\n",
       "    <tr>\n",
       "      <th>3</th>\n",
       "      <td>3.492486</td>\n",
       "      <td>-0.010024</td>\n",
       "      <td>55.206335</td>\n",
       "      <td>R</td>\n",
       "      <td>Horror</td>\n",
       "      <td>1.012450</td>\n",
       "      <td>1.694180</td>\n",
       "      <td>3.940796</td>\n",
       "      <td>2.161893</td>\n",
       "      <td>No</td>\n",
       "    </tr>\n",
       "    <tr>\n",
       "      <th>4</th>\n",
       "      <td>2.915258</td>\n",
       "      <td>1.482394</td>\n",
       "      <td>31.399302</td>\n",
       "      <td>NC-17</td>\n",
       "      <td>Children</td>\n",
       "      <td>1.121246</td>\n",
       "      <td>2.033796</td>\n",
       "      <td>5.060216</td>\n",
       "      <td>4.560438</td>\n",
       "      <td>No</td>\n",
       "    </tr>\n",
       "    <tr>\n",
       "      <th>...</th>\n",
       "      <td>...</td>\n",
       "      <td>...</td>\n",
       "      <td>...</td>\n",
       "      <td>...</td>\n",
       "      <td>...</td>\n",
       "      <td>...</td>\n",
       "      <td>...</td>\n",
       "      <td>...</td>\n",
       "      <td>...</td>\n",
       "      <td>...</td>\n",
       "    </tr>\n",
       "    <tr>\n",
       "      <th>953</th>\n",
       "      <td>3.492486</td>\n",
       "      <td>2.530046</td>\n",
       "      <td>24.421413</td>\n",
       "      <td>PG</td>\n",
       "      <td>Children</td>\n",
       "      <td>0.461631</td>\n",
       "      <td>1.079422</td>\n",
       "      <td>1.518845</td>\n",
       "      <td>1.555062</td>\n",
       "      <td>No</td>\n",
       "    </tr>\n",
       "    <tr>\n",
       "      <th>954</th>\n",
       "      <td>2.299235</td>\n",
       "      <td>1.482394</td>\n",
       "      <td>33.048095</td>\n",
       "      <td>R</td>\n",
       "      <td>Comedy</td>\n",
       "      <td>0.461631</td>\n",
       "      <td>1.079422</td>\n",
       "      <td>1.518845</td>\n",
       "      <td>2.710236</td>\n",
       "      <td>No</td>\n",
       "    </tr>\n",
       "    <tr>\n",
       "      <th>955</th>\n",
       "      <td>1.630786</td>\n",
       "      <td>2.530046</td>\n",
       "      <td>27.704066</td>\n",
       "      <td>R</td>\n",
       "      <td>Horror</td>\n",
       "      <td>0.461631</td>\n",
       "      <td>1.079422</td>\n",
       "      <td>0.000000</td>\n",
       "      <td>1.555062</td>\n",
       "      <td>No</td>\n",
       "    </tr>\n",
       "    <tr>\n",
       "      <th>956</th>\n",
       "      <td>4.039329</td>\n",
       "      <td>1.482394</td>\n",
       "      <td>27.994892</td>\n",
       "      <td>R</td>\n",
       "      <td>Documentary</td>\n",
       "      <td>0.461631</td>\n",
       "      <td>1.079422</td>\n",
       "      <td>0.847203</td>\n",
       "      <td>0.859446</td>\n",
       "      <td>No</td>\n",
       "    </tr>\n",
       "    <tr>\n",
       "      <th>957</th>\n",
       "      <td>2.915258</td>\n",
       "      <td>2.530046</td>\n",
       "      <td>32.502135</td>\n",
       "      <td>R</td>\n",
       "      <td>Music</td>\n",
       "      <td>0.461631</td>\n",
       "      <td>1.079422</td>\n",
       "      <td>1.518845</td>\n",
       "      <td>1.555062</td>\n",
       "      <td>No</td>\n",
       "    </tr>\n",
       "  </tbody>\n",
       "</table>\n",
       "<p>958 rows × 10 columns</p>\n",
       "</div>"
      ],
      "text/plain": [
       "     rental_duration  rental_rate     length rating     category  \\\n",
       "0           4.039329     1.482394  47.659801      G       Family   \n",
       "1           4.039329     1.482394  42.356599      R        Music   \n",
       "2           4.039329     1.482394  49.530474      G     Children   \n",
       "3           3.492486    -0.010024  55.206335      R       Horror   \n",
       "4           2.915258     1.482394  31.399302  NC-17     Children   \n",
       "..               ...          ...        ...    ...          ...   \n",
       "953         3.492486     2.530046  24.421413     PG     Children   \n",
       "954         2.299235     1.482394  33.048095      R       Comedy   \n",
       "955         1.630786     2.530046  27.704066      R       Horror   \n",
       "956         4.039329     1.482394  27.994892      R  Documentary   \n",
       "957         2.915258     2.530046  32.502135      R        Music   \n",
       "\n",
       "     2005-5_rented  2005-6_rented  2005-7_rented  2005-8_rented rented  \n",
       "0         0.000000       0.000000       2.097023       2.710236    Yes  \n",
       "1         0.589651       1.286545       3.940796       2.161893     No  \n",
       "2         0.589651       0.765061       3.527749       2.710236     No  \n",
       "3         1.012450       1.694180       3.940796       2.161893     No  \n",
       "4         1.121246       2.033796       5.060216       4.560438     No  \n",
       "..             ...            ...            ...            ...    ...  \n",
       "953       0.461631       1.079422       1.518845       1.555062     No  \n",
       "954       0.461631       1.079422       1.518845       2.710236     No  \n",
       "955       0.461631       1.079422       0.000000       1.555062     No  \n",
       "956       0.461631       1.079422       0.847203       0.859446     No  \n",
       "957       0.461631       1.079422       1.518845       1.555062     No  \n",
       "\n",
       "[958 rows x 10 columns]"
      ]
     },
     "execution_count": 16,
     "metadata": {},
     "output_type": "execute_result"
    }
   ],
   "source": [
    "from scipy import stats\n",
    "\n",
    "def boxcox_transform(df):\n",
    "    numeric_cols = df.select_dtypes(np.number).columns\n",
    "    _ci = {column: None for column in numeric_cols}\n",
    "    for column in numeric_cols:\n",
    "        # to avoid -inf in df, we don't use negative or values = 0\n",
    "        df[column] = np.where(df[column]<=0, np.NAN, df[column]) \n",
    "        df[column] = df[column].fillna(df[column].mean())\n",
    "        # Check if column data is constant\n",
    "        if np.std(df[column]) != 0:  \n",
    "            transformed_data, ci = stats.boxcox(df[column])\n",
    "            df[column] = transformed_data\n",
    "            _ci[column] = [ci]\n",
    "    return df, _ci\n",
    "\n",
    "df_copy, _ci = boxcox_transform(df_copy)\n",
    "df_copy"
   ]
  },
  {
   "cell_type": "code",
   "execution_count": 17,
   "metadata": {},
   "outputs": [
    {
     "name": "stdout",
     "output_type": "stream",
     "text": [
      "              precision    recall  f1-score   support\n",
      "\n",
      "          No       0.82      0.99      0.90       158\n",
      "         Yes       0.00      0.00      0.00        34\n",
      "\n",
      "    accuracy                           0.82       192\n",
      "   macro avg       0.41      0.50      0.45       192\n",
      "weighted avg       0.68      0.82      0.74       192\n",
      "\n"
     ]
    }
   ],
   "source": [
    "X = pd.get_dummies(df_copy.drop('rented', axis=1))\n",
    "y = df_copy['rented']\n",
    "\n",
    "X_train, X_test, y_train, y_test = train_test_split(X, y, test_size=0.2, random_state=42, stratify=y)\n",
    "\n",
    "classification = LogisticRegression(random_state=42, max_iter=10000)\n",
    "classification.fit(X_train, y_train)\n",
    "\n",
    "predictions = classification.predict(X_test)\n",
    "print(classification_report(y_test, predictions))"
   ]
  },
  {
   "cell_type": "markdown",
   "metadata": {},
   "source": [
    "- Feature Engineering using Normalizer"
   ]
  },
  {
   "cell_type": "code",
   "execution_count": 18,
   "metadata": {},
   "outputs": [
    {
     "name": "stdout",
     "output_type": "stream",
     "text": [
      "              precision    recall  f1-score   support\n",
      "\n",
      "          No       0.82      1.00      0.90       158\n",
      "         Yes       0.00      0.00      0.00        34\n",
      "\n",
      "    accuracy                           0.82       192\n",
      "   macro avg       0.41      0.50      0.45       192\n",
      "weighted avg       0.68      0.82      0.74       192\n",
      "\n"
     ]
    },
    {
     "name": "stderr",
     "output_type": "stream",
     "text": [
      "/opt/anaconda3/lib/python3.7/site-packages/sklearn/metrics/_classification.py:1318: UndefinedMetricWarning: Precision and F-score are ill-defined and being set to 0.0 in labels with no predicted samples. Use `zero_division` parameter to control this behavior.\n",
      "  _warn_prf(average, modifier, msg_start, len(result))\n",
      "/opt/anaconda3/lib/python3.7/site-packages/sklearn/metrics/_classification.py:1318: UndefinedMetricWarning: Precision and F-score are ill-defined and being set to 0.0 in labels with no predicted samples. Use `zero_division` parameter to control this behavior.\n",
      "  _warn_prf(average, modifier, msg_start, len(result))\n",
      "/opt/anaconda3/lib/python3.7/site-packages/sklearn/metrics/_classification.py:1318: UndefinedMetricWarning: Precision and F-score are ill-defined and being set to 0.0 in labels with no predicted samples. Use `zero_division` parameter to control this behavior.\n",
      "  _warn_prf(average, modifier, msg_start, len(result))\n"
     ]
    }
   ],
   "source": [
    "scaler = Normalizer()\n",
    "\n",
    "X = pd.get_dummies(df_copy.drop('rented', axis=1))\n",
    "X_scaled = scaler.fit_transform(X)\n",
    "y = df_copy['rented']\n",
    "\n",
    "X_train, X_test, y_train, y_test = train_test_split(X_scaled, y, test_size=0.2, random_state=42, stratify=y)\n",
    "\n",
    "classification = LogisticRegression(random_state=42, max_iter=10000)\n",
    "classification.fit(X_train, y_train)\n",
    "\n",
    "predictions = classification.predict(X_test)\n",
    "print(classification_report(y_test, predictions))"
   ]
  },
  {
   "cell_type": "markdown",
   "metadata": {},
   "source": [
    "- Feature Engineering using StandardScaler"
   ]
  },
  {
   "cell_type": "code",
   "execution_count": 19,
   "metadata": {},
   "outputs": [
    {
     "name": "stdout",
     "output_type": "stream",
     "text": [
      "              precision    recall  f1-score   support\n",
      "\n",
      "          No       0.82      0.99      0.90       158\n",
      "         Yes       0.00      0.00      0.00        34\n",
      "\n",
      "    accuracy                           0.82       192\n",
      "   macro avg       0.41      0.50      0.45       192\n",
      "weighted avg       0.68      0.82      0.74       192\n",
      "\n"
     ]
    }
   ],
   "source": [
    "scaler = StandardScaler()\n",
    "\n",
    "X = pd.get_dummies(df_copy.drop('rented', axis=1))\n",
    "X_scaled = scaler.fit_transform(X)\n",
    "y = df_copy['rented']\n",
    "\n",
    "X_train, X_test, y_train, y_test = train_test_split(X_scaled, y, test_size=0.2, random_state=42, stratify=y)\n",
    "\n",
    "classification = LogisticRegression(random_state=42, max_iter=10000)\n",
    "classification.fit(X_train, y_train)\n",
    "\n",
    "predictions = classification.predict(X_test)\n",
    "print(classification_report(y_test, predictions))"
   ]
  },
  {
   "cell_type": "markdown",
   "metadata": {},
   "source": [
    "### Solving Imblanace Data"
   ]
  },
  {
   "cell_type": "markdown",
   "metadata": {},
   "source": [
    "- Oversampling using randomOverSample"
   ]
  },
  {
   "cell_type": "code",
   "execution_count": 20,
   "metadata": {},
   "outputs": [
    {
     "name": "stdout",
     "output_type": "stream",
     "text": [
      "              precision    recall  f1-score   support\n",
      "\n",
      "          No       0.89      0.57      0.69       158\n",
      "         Yes       0.25      0.68      0.37        34\n",
      "\n",
      "    accuracy                           0.59       192\n",
      "   macro avg       0.57      0.62      0.53       192\n",
      "weighted avg       0.78      0.59      0.64       192\n",
      "\n"
     ]
    }
   ],
   "source": [
    "from imblearn.over_sampling import RandomOverSampler\n",
    "\n",
    "X = pd.get_dummies(df_copy.drop('rented', axis=1))\n",
    "y = df_copy['rented']\n",
    "\n",
    "X_train, X_test, y_train, y_test = train_test_split(X, y, test_size=0.2, random_state=42, stratify=y)\n",
    "\n",
    "X_train_scaled = scaler.fit_transform(X_train)\n",
    "X_test_scaled = scaler.transform(X_test)\n",
    "\n",
    "ros = RandomOverSampler(random_state=42)\n",
    "X_train, y_train = ros.fit_resample(X_train_scaled, y_train)\n",
    "\n",
    "classification = LogisticRegression(random_state=42, max_iter=10000)\n",
    "classification.fit(X_train, y_train)\n",
    "\n",
    "predictions = classification.predict(X_test_scaled)\n",
    "print(classification_report(y_test, predictions))"
   ]
  },
  {
   "cell_type": "code",
   "execution_count": 21,
   "metadata": {},
   "outputs": [
    {
     "name": "stderr",
     "output_type": "stream",
     "text": [
      "/opt/anaconda3/lib/python3.7/site-packages/sklearn/base.py:444: UserWarning: X has feature names, but LogisticRegression was fitted without feature names\n",
      "  f\"X has feature names, but {self.__class__.__name__} was fitted without\"\n"
     ]
    },
    {
     "data": {
      "image/png": "[encoded data removed]",
      "text/plain": [
       "<Figure size 432x288 with 2 Axes>"
      ]
     },
     "metadata": {
      "needs_background": "light"
     },
     "output_type": "display_data"
    }
   ],
   "source": [
    "predictions = classification.predict(X_test)\n",
    "cf_matrix = confusion_matrix(y_test, predictions, normalize='all')\n",
    "\n",
    "sns.heatmap(cf_matrix, annot=True, xticklabels=[\"Predicted - No\", \"Predicted - Yes\"], yticklabels=[\"Actual - No\", \"Actual - Yes\"])\n",
    "\n",
    "plt.show()"
   ]
  },
  {
   "cell_type": "markdown",
   "metadata": {},
   "source": [
    "- Oversampling using SMOTE"
   ]
  },
  {
   "cell_type": "code",
   "execution_count": 22,
   "metadata": {},
   "outputs": [
    {
     "name": "stdout",
     "output_type": "stream",
     "text": [
      "              precision    recall  f1-score   support\n",
      "\n",
      "          No       0.82      0.97      0.89       158\n",
      "         Yes       0.00      0.00      0.00        34\n",
      "\n",
      "    accuracy                           0.80       192\n",
      "   macro avg       0.41      0.48      0.44       192\n",
      "weighted avg       0.67      0.80      0.73       192\n",
      "\n"
     ]
    }
   ],
   "source": [
    "from imblearn.over_sampling import SMOTE\n",
    "\n",
    "X = pd.get_dummies(df_copy.drop('rented', axis=1))\n",
    "y = df_copy['rented']\n",
    "\n",
    "X_train, X_test, y_train, y_test = train_test_split(X, y, test_size=0.2, random_state=42, stratify=y)\n",
    "\n",
    "smote = SMOTE()\n",
    "X_train, y_train = smote.fit_resample(X_train, y_train)\n",
    "\n",
    "classification = LogisticRegression(random_state=42, max_iter=10000)\n",
    "classification.fit(X_train, y_train)\n",
    "\n",
    "predictions = classification.predict(X_test)\n",
    "print(classification_report(y_test, predictions))"
   ]
  },
  {
   "cell_type": "markdown",
   "metadata": {},
   "source": [
    "- Undersampling using RandomUnderSampler"
   ]
  },
  {
   "cell_type": "code",
   "execution_count": 23,
   "metadata": {},
   "outputs": [
    {
     "name": "stdout",
     "output_type": "stream",
     "text": [
      "              precision    recall  f1-score   support\n",
      "\n",
      "          No       0.87      0.51      0.65       158\n",
      "         Yes       0.22      0.65      0.33        34\n",
      "\n",
      "    accuracy                           0.54       192\n",
      "   macro avg       0.55      0.58      0.49       192\n",
      "weighted avg       0.76      0.54      0.59       192\n",
      "\n"
     ]
    }
   ],
   "source": [
    "from imblearn.under_sampling import RandomUnderSampler\n",
    "\n",
    "\n",
    "X = pd.get_dummies(df_copy.drop('rented', axis=1))\n",
    "y = df_copy['rented']\n",
    "\n",
    "X_train, X_test, y_train, y_test = train_test_split(X, y, test_size=0.2, random_state=42, stratify=y)\n",
    "\n",
    "\n",
    "rus = RandomUnderSampler(random_state=42)\n",
    "X_train, y_train = rus.fit_resample(X_train, y_train)\n",
    "\n",
    "classification = LogisticRegression(random_state=42, max_iter=10000)\n",
    "classification.fit(X_train, y_train)\n",
    "\n",
    "predictions = classification.predict(X_test)\n",
    "print(classification_report(y_test, predictions))\n"
   ]
  },
  {
   "cell_type": "markdown",
   "metadata": {},
   "source": [
    "- Undersampling using TomekLinks"
   ]
  },
  {
   "cell_type": "code",
   "execution_count": 24,
   "metadata": {},
   "outputs": [
    {
     "name": "stdout",
     "output_type": "stream",
     "text": [
      "              precision    recall  f1-score   support\n",
      "\n",
      "          No       0.82      0.99      0.90       158\n",
      "         Yes       0.00      0.00      0.00        34\n",
      "\n",
      "    accuracy                           0.81       192\n",
      "   macro avg       0.41      0.49      0.45       192\n",
      "weighted avg       0.68      0.81      0.74       192\n",
      "\n"
     ]
    }
   ],
   "source": [
    "from imblearn.under_sampling import TomekLinks\n",
    "X = pd.get_dummies(df_copy.drop('rented', axis=1))\n",
    "y = df_copy['rented']\n",
    "\n",
    "X_train, X_test, y_train, y_test = train_test_split(X, y, test_size=0.2, random_state=42, stratify=y)\n",
    "\n",
    "\n",
    "tomek = TomekLinks()\n",
    "\n",
    "X_train, y_train = tomek.fit_resample(X_train, y_train)\n",
    "\n",
    "classification = LogisticRegression(random_state=42, max_iter=10000)\n",
    "classification.fit(X_train, y_train)\n",
    "\n",
    "predictions = classification.predict(X_test)\n",
    "print(classification_report(y_test, predictions))"
   ]
  },
  {
   "cell_type": "markdown",
   "metadata": {},
   "source": [
    "### 6. Evaluate the results"
   ]
  },
  {
   "cell_type": "code",
   "execution_count": 25,
   "metadata": {},
   "outputs": [
    {
     "data": {
      "image/png": "[encoded data removed]",
      "text/plain": [
       "<Figure size 432x288 with 2 Axes>"
      ]
     },
     "metadata": {
      "needs_background": "light"
     },
     "output_type": "display_data"
    }
   ],
   "source": [
    "predictions = classification.predict(X_test)\n",
    "cf_matrix = confusion_matrix(y_test, predictions, normalize='all')\n",
    "\n",
    "sns.heatmap(cf_matrix, annot=True, xticklabels=[\"Predicted - No\", \"Predicted - Yes\"], yticklabels=[\"Actual - No\", \"Actual - Yes\"])\n",
    "\n",
    "plt.show()"
   ]
  },
  {
   "cell_type": "code",
   "execution_count": null,
   "metadata": {},
   "outputs": [],
   "source": []
  }
 ],
 "metadata": {
  "kernelspec": {
   "display_name": "Python 3",
   "language": "python",
   "name": "python3"
  },
  "language_info": {
   "codemirror_mode": {
    "name": "ipython",
    "version": 3
   },
   "file_extension": ".py",
   "mimetype": "text/x-python",
   "name": "python",
   "nbconvert_exporter": "python",
   "pygments_lexer": "ipython3",
   "version": "3.7.4"
  }
 },
 "nbformat": 4,
 "nbformat_minor": 2
}
